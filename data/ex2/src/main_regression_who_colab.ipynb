{
 "cells": [
  {
   "cell_type": "code",
   "execution_count": 18,
   "metadata": {
    "id": "FRbft71zpovU"
   },
   "outputs": [],
   "source": [
    "# Exercise_2\n",
    "# main simple regression WHO data\n",
    "# TODO**\n",
    "# Names of group members: Fabian Bloch and Christopher Mahn\n",
    "# Date: April 24th, 2023\n",
    "# TODO**"
   ]
  },
  {
   "cell_type": "code",
   "execution_count": 19,
   "metadata": {
    "id": "V55Tqr8_pove"
   },
   "outputs": [
    {
     "name": "stdout",
     "output_type": "stream",
     "text": [
      "Path of this exercise: /home/christopher/repository/hcu-ma-gmt-big-data-analysis/data/ex2\n"
     ]
    }
   ],
   "source": [
    "#%% Load modules\n",
    "import numpy as np\n",
    "import pandas as pd\n",
    "# import csv\n",
    "\n",
    "# torch modules\n",
    "import torch \n",
    "import torch.nn as nn\n",
    "import torch.nn.functional as F\n",
    "import torch.optim as optim\n",
    "\n",
    "# plot module\n",
    "import matplotlib.pyplot as plt\n",
    "\n",
    "# module for interoperable file-operations\n",
    "import os\n",
    "path = os.path.abspath(os.path.join(os.getcwd(), os.pardir))\n",
    "print(f'Path of this exercise: {path}')"
   ]
  },
  {
   "cell_type": "code",
   "execution_count": 20,
   "metadata": {
    "id": "ApFO2bmNpovl"
   },
   "outputs": [
    {
     "name": "stdout",
     "output_type": "stream",
     "text": [
      "No GPU available.\n"
     ]
    }
   ],
   "source": [
    "# %% CUDA for PyTorch\n",
    "# Right at the beginning: check if a cuda compatible GPU is available in your computer. \n",
    "# If so, set device = cuda:0 which means that later all calculations will be performed on the graphics card. \n",
    "# If no GPU is available, the calculations will run on the CPU, which is also absolutely sufficient for the examples in these exercises.\n",
    "use_cuda = torch.cuda.is_available()\n",
    "device = torch.device(\"cuda:0\" if use_cuda else \"cpu\")\n",
    "#cudnn.benchmark = True\n",
    "\n",
    "if device.type == 'cpu':\n",
    "    device_num = 0\n",
    "    print('No GPU available.')\n",
    "else:\n",
    "    device_num = torch.cuda.device_count()\n",
    "    print('Device:', device, '-- Number of devices:', device_num)"
   ]
  },
  {
   "cell_type": "code",
   "execution_count": 21,
   "metadata": {
    "id": "tEq8B2lJqeZ_"
   },
   "outputs": [],
   "source": [
    "# Mounting Google Drive locally \n",
    "# from google.colab import drive\n",
    "#drive.mount(\"/content/drive\", force_remount=True)\n",
    "# drive.mount('/content/drive')\n",
    "# you can also choose one of the other options to load data\n",
    "# therefore see https://colab.research.google.com/notebooks/io.ipynb#scrollTo=u22w3BFiOveA"
   ]
  },
  {
   "cell_type": "code",
   "execution_count": 22,
   "metadata": {
    "id": "qDuUbHGwpovs"
   },
   "outputs": [
    {
     "name": "stdout",
     "output_type": "stream",
     "text": [
      "Dimension of the dataset: (1649, 22)\n"
     ]
    }
   ],
   "source": [
    "# %% read data\n",
    "# path to WHO data\n",
    "data_path = os.path.join(path, 'data/life-expectancy-who/Life Expectancy Data.csv')\n",
    "\n",
    "# read csv sheet with pandas\n",
    "df = pd.read_csv(data_path)\n",
    "\n",
    "# drop each row where is nan data\n",
    "df = df.dropna()\n",
    "# drop each row where is not at least 21 not nan data\n",
    "# df = df.dropna(thresh=21) # there are many nan in row 4 12 14, which can cause errors\n",
    "\n",
    "# get numpy out of pandas dataframe\n",
    "data = df.values\n",
    "# data=df.to_numpy()\n",
    "\n",
    "# get column names to see, which columns we have to extract as x and y\n",
    "column_names = np.array(df.columns[:], dtype=np.str_)\n",
    "\n",
    "# TODO**\n",
    "print(f'Dimension of the dataset: {np.shape(data)}')\n",
    "# TODO**"
   ]
  },
  {
   "cell_type": "code",
   "execution_count": 23,
   "metadata": {
    "id": "QxMKROTGpovx"
   },
   "outputs": [
    {
     "name": "stdout",
     "output_type": "stream",
     "text": [
      "x shape: (1649,)\n",
      "y shape: (1649,)\n",
      "x_1 = 19.1 = 19.1\n",
      "y_1 = 65.0 = 65.0\n"
     ]
    }
   ],
   "source": [
    "# %% split in X and Y\n",
    "# extract any feature you want as X \n",
    "# extract target values as Y\n",
    "# TODO**\n",
    "x = np.array(data[:,10], dtype=np.float32)\n",
    "y = np.array(data[:,3], dtype=np.float32)\n",
    "# TODO**\n",
    "print('x shape:', x.shape)\n",
    "print('y shape:', y.shape)\n",
    "print(f'x_1 = {x[0]:.1f} = 19.1')\n",
    "print(f'y_1 = {y[0]:.1f} = 65.0')"
   ]
  },
  {
   "cell_type": "code",
   "execution_count": 24,
   "metadata": {
    "id": "ArJIaoXdpov3"
   },
   "outputs": [
    {
     "name": "stdout",
     "output_type": "stream",
     "text": [
      "Scale_x: 77.1\n",
      "Scale_y: 89.0\n"
     ]
    }
   ],
   "source": [
    "# %% normalize X and Y between (0,1). If multiple features in X are selected, each feature is normalized individually\n",
    "scale_x = np.max(x, axis=0)\n",
    "scale_y = np.max(y, axis=0)\n",
    "x = x/scale_x\n",
    "y = y/scale_y\n",
    "print('Scale_x:',scale_x)\n",
    "print('Scale_y:',scale_y)"
   ]
  },
  {
   "cell_type": "code",
   "execution_count": 25,
   "metadata": {
    "id": "akHb4sLlpov9"
   },
   "outputs": [],
   "source": [
    "# %% convert to torch tensors\n",
    "# if tensors have only one dimension, an artificial dimension is created with unsqueeze (e.g. [10]->[10,1], so 1D->2D)\n",
    "Y = torch.from_numpy(y)\n",
    "Y = Y.float()\n",
    "if len(Y.shape)==1:\n",
    "    Y = Y.unsqueeze(dim=1)\n",
    "\n",
    "X = torch.from_numpy(x)\n",
    "X = X.float()\n",
    "if len(X.shape)==1:\n",
    "    X = X.unsqueeze(dim=1)"
   ]
  },
  {
   "cell_type": "code",
   "execution_count": 26,
   "metadata": {
    "id": "h_jswetZpowA"
   },
   "outputs": [
    {
     "name": "stdout",
     "output_type": "stream",
     "text": [
      "Input of first ten train Sample: tensor([[0.7652],\n",
      "        [0.7043],\n",
      "        [0.3787],\n",
      "        [0.1997],\n",
      "        [0.4073],\n",
      "        [0.5927],\n",
      "        [0.6239],\n",
      "        [0.0324],\n",
      "        [0.0843],\n",
      "        [0.5071]])\n",
      "Target of first ten train Sample: tensor([[0.8978],\n",
      "        [0.8820],\n",
      "        [0.8101],\n",
      "        [0.7416],\n",
      "        [0.6899],\n",
      "        [0.7753],\n",
      "        [0.8169],\n",
      "        [0.8056],\n",
      "        [0.9146],\n",
      "        [0.7101]])\n"
     ]
    }
   ],
   "source": [
    "# %% Split dataset in training, validation and test tensors\n",
    "# TODO**\n",
    "prop_train = 0.5\n",
    "prop_val = 0.25\n",
    "prop_test = 0.25\n",
    "# TODO**\n",
    "\n",
    "sample_num = {'all': X.shape[0], \n",
    "              'train': round(prop_train*X.shape[0]),\n",
    "              'val': round(prop_val*X.shape[0]),\n",
    "              'test': round(prop_test*X.shape[0])}\n",
    "\n",
    "# idx shuffle\n",
    "idx = np.random.choice(sample_num['all'], sample_num['all'], replace=False)\n",
    "# assign idx to each sample\n",
    "sample_idx = {'all': idx[:], \n",
    "              'train': idx[0:sample_num['train']],\n",
    "              'val': idx[sample_num['train']:sample_num['train']+sample_num['val']],\n",
    "              'test': idx[sample_num['train']+sample_num['val']:]}\n",
    "\n",
    "# Create train data\n",
    "X_train = X[sample_idx['train']]\n",
    "Y_train = Y[sample_idx['train']]\n",
    "\n",
    "# Create validation data\n",
    "X_val = X[sample_idx['val']]\n",
    "Y_val = Y[sample_idx['val']]\n",
    "\n",
    "# Create test data\n",
    "X_test = X[sample_idx['test']]\n",
    "Y_test = Y[sample_idx['test']]\n",
    "\n",
    "\n",
    "# %% Show data point\n",
    "print('Input of first ten train Sample:', X_train[0:10])\n",
    "print('Target of first ten train Sample:', Y_train[0:10])"
   ]
  },
  {
   "cell_type": "code",
   "execution_count": 27,
   "metadata": {
    "id": "MBIUKIz5powE"
   },
   "outputs": [],
   "source": [
    "#%% class of neural network 'RegressNet'\n",
    "# set up layer and architecture of network in constructor __init__\n",
    "# define operations on layer in forward pass method\n",
    "class RegressNet(nn.Module):\n",
    "    \n",
    "    def __init__(self, inputSize, outputSize):\n",
    "        super(RegressNet, self).__init__()\n",
    "        self.fc1 = nn.Linear(inputSize, 128)\n",
    "        self.fc2 = nn.Linear(128, 32)\n",
    "        self.fc3 = nn.Linear(32, outputSize)\n",
    "    \n",
    "    def forward(self, x):\n",
    "        # max pooling over (2, 2) window\n",
    "        x = F.relu(self.fc1(x))\n",
    "        x = F.relu(self.fc2(x))\n",
    "        x = self.fc3(x)\n",
    "        return x"
   ]
  },
  {
   "cell_type": "code",
   "execution_count": 28,
   "metadata": {
    "id": "HNkvuIWrpowJ"
   },
   "outputs": [
    {
     "name": "stdout",
     "output_type": "stream",
     "text": [
      "RegressNet(\n",
      "  (fc1): Linear(in_features=1, out_features=128, bias=True)\n",
      "  (fc2): Linear(in_features=128, out_features=32, bias=True)\n",
      "  (fc3): Linear(in_features=32, out_features=1, bias=True)\n",
      ")\n"
     ]
    }
   ],
   "source": [
    "#%% Specify network hyperparameter and create instance of RegressNet\n",
    "# TODO**        \n",
    "inputDim = 1\n",
    "outputDim = 1\n",
    "\n",
    "# Create instance of RegressNet\n",
    "net = RegressNet(inputDim, outputDim)\n",
    "# TODO**\n",
    "print(net)"
   ]
  },
  {
   "cell_type": "code",
   "execution_count": 29,
   "metadata": {
    "id": "Ej8iLTTQpowN"
   },
   "outputs": [
    {
     "name": "stdout",
     "output_type": "stream",
     "text": [
      "None\n"
     ]
    },
    {
     "data": {
      "text/plain": [
       "RegressNet(\n",
       "  (fc1): Linear(in_features=1, out_features=128, bias=True)\n",
       "  (fc2): Linear(in_features=128, out_features=32, bias=True)\n",
       "  (fc3): Linear(in_features=32, out_features=1, bias=True)\n",
       ")"
      ]
     },
     "execution_count": 29,
     "metadata": {},
     "output_type": "execute_result"
    }
   ],
   "source": [
    "print(torch.version.cuda)\n",
    "\n",
    "#%% Send tensors and networks to GPU (if you have one which supports cuda) for faster computations\n",
    "X_train, Y_train = X_train.to(device), Y_train.to(device)\n",
    "X_val, Y_val = X_val.to(device), Y_val.to(device)\n",
    "X_test, Y_test = X_test.to(device), Y_test.to(device)\n",
    "\n",
    "# The network itself must also be sent to the GPU. Either you write net = RegressNet() and then later net.to(device) or directly net = RegressNet().to(device)\n",
    "# The latter option may have the advantage that the instance net is created directly on the GPU, whereas in variant 1 it must first be sent to the GPU.\n",
    "if device_num>1:\n",
    "    print(\"Let's use\", device_num, \"GPU's\")\n",
    "    net = nn.DataParallel(net)\n",
    "net.to(device)"
   ]
  },
  {
   "cell_type": "code",
   "execution_count": 30,
   "metadata": {
    "id": "wEB7solvpowR"
   },
   "outputs": [],
   "source": [
    "#%% Specify hyperparameter\n",
    "# hyperparemter: num_epoch, num_lr, loss_func, optimizer\n",
    "# how many epochs do we want to train?\n",
    "# TODO** \n",
    "num_epoch = 10000\n",
    "learn_rate = 1e-3\n",
    "# TODO**\n",
    "# Loss and optimizer\n",
    "loss_func = nn.MSELoss()\n",
    "optimizer = optim.Adam(net.parameters(), lr=learn_rate)"
   ]
  },
  {
   "cell_type": "code",
   "execution_count": 31,
   "metadata": {
    "id": "fGpL1sQ_powV"
   },
   "outputs": [],
   "source": [
    "#%% Loss before training\n",
    "# Compute loss of test data before training the network (with random weights)\n",
    "Y_pred_train_before = net(X_train)\n",
    "loss_train_before = loss_func(Y_pred_train_before, Y_train)\n",
    "Y_pred_val_before = net(X_val)\n",
    "loss_val_before = loss_func(Y_pred_val_before, Y_val)\n",
    "Y_pred_test_before = net(X_test)\n",
    "loss_test_before = loss_func(Y_pred_test_before, Y_test)"
   ]
  },
  {
   "cell_type": "code",
   "execution_count": 32,
   "metadata": {
    "id": "s6Uo7R0xpowZ"
   },
   "outputs": [
    {
     "ename": "SyntaxError",
     "evalue": "invalid syntax (4124404315.py, line 21)",
     "output_type": "error",
     "traceback": [
      "\u001b[0;36m  File \u001b[0;32m\"/tmp/ipykernel_10999/4124404315.py\"\u001b[0;36m, line \u001b[0;32m21\u001b[0m\n\u001b[0;31m    loss_val =\u001b[0m\n\u001b[0m               ^\u001b[0m\n\u001b[0;31mSyntaxError\u001b[0m\u001b[0;31m:\u001b[0m invalid syntax\n"
     ]
    }
   ],
   "source": [
    "#%% Training\n",
    "plt.figure() # monitor loss curve during training\n",
    "# for loop over epochs\n",
    "for epoch in range(num_epoch):\n",
    "    # classical forward pass -> predict new output from train data\n",
    "    Y_pred_train = net(X_train)\n",
    "    # compute loss    \n",
    "    loss_train = loss_func(Y_pred_train, Y_train)\n",
    "    \n",
    "    # Compute gradients\n",
    "    optimizer.zero_grad()\n",
    "    # Calling .backward() mutiple times accumulates the gradient (by addition) for each parameter. This is why you should call optimizer.zero_grad() after each .step() call\n",
    "    # Note that following the first .backward call, a second call is only possible after you have performed another forward pass.\n",
    "    loss_train.backward()\n",
    "    # perform a parameter update based on the current gradient (stored in .grad attribute of a parameter)\n",
    "    optimizer.step()\n",
    "    \n",
    "    # TODO**\n",
    "    # forward pass for validation\n",
    "    Y_pred_val = 0.5\n",
    "    loss_val = \n",
    "    # TODO**\n",
    "    \n",
    "    # plot train and val loss\n",
    "    plt.scatter(epoch, loss_train.data.item(), color='b', s=10, marker='o')    \n",
    "    plt.scatter(epoch, loss_val.data.item(), color='r', s=10, marker='o')\n",
    "    \n",
    "    # print message with actual losses\n",
    "    print('Train Epoch: {}/{} ({:.0f}%)\\ttrain_Loss: {:.6f}\\tval_Loss: {:.6f}'.format(\n",
    "    epoch+1, num_epoch, epoch/num_epoch*100, loss_train.item(), loss_val.item()))\n",
    "\n",
    "\n",
    "# show training and validation loss    \n",
    "plt.legend(['train-loss','val-loss'])\n",
    "plt.xlabel('epoch')\n",
    "plt.ylabel('loss')\n",
    "plt.savefig(os.path.join(path, 'results/who_loss.png'))\n",
    "#plt.show()\n",
    "\n",
    "print('Train loss before training was:', loss_train_before.item())\n",
    "print('Train loss after training is:', loss_train.item())\n",
    "print('Val loss before training was:', loss_val_before.item())\n",
    "print('Val loss after training is:', loss_val.item())"
   ]
  },
  {
   "cell_type": "code",
   "execution_count": null,
   "metadata": {
    "id": "eytU3EgRpowe"
   },
   "outputs": [],
   "source": [
    "#%% Pred vs. Ref Figure Train/Val set\n",
    "# plot the prediction against the reference for the train/val points\n",
    "# if the prediction equals the reference the dots will appear at the 'perfect model' line\n",
    "plt.figure()\n",
    "plt.title('pred vs. ref: train/val points')\n",
    "plt.scatter(Y_train.cpu().numpy(), Y_pred_train.cpu().detach().numpy(), color='b', s=5, marker='o')\n",
    "plt.scatter(Y_val.cpu().numpy(), Y_pred_val.cpu().detach().numpy(), color='r', s=5, marker='o')\n",
    "plt.scatter(Y_val.cpu().numpy(), Y_pred_val_before.cpu().detach().numpy(), color='m', s=5, marker='^')\n",
    "plt.plot((0,1),(0,1), color='k')\n",
    "plt.xlabel('reference')\n",
    "plt.ylabel('prediction')\n",
    "plt.legend(['perfect model', 'train-sample after tr','val-sample after tr', 'val-sample before tr'])\n",
    "plt.xlim((0,1))\n",
    "plt.ylim((0,1))\n",
    "plt.savefig(os.path.join(path, 'results/who_pred_vs_ref_val.png'))"
   ]
  },
  {
   "cell_type": "code",
   "execution_count": null,
   "metadata": {
    "id": "SKwwQdL7powg"
   },
   "outputs": [],
   "source": [
    "#%% Test results\n",
    "# TODO**\n",
    "# forward pass \n",
    "# Y_pred_test_oh is on the GPU, because net and X_test are on the GPU, but we want it on the CPU from now on.\n",
    "Y_pred_test = \n",
    "loss_test = \n",
    "# TODO**\n",
    "print('Test loss before training was:', loss_test_before.item())\n",
    "print('Test loss after training is:', loss_test.item())\n",
    "\n",
    "# Plot mean abs difference between prediction and reference\n",
    "print('Mean abs difference:', np.mean(abs(Y_pred_test.cpu().detach().numpy()-Y_test.cpu().numpy()), axis=0)*scale_y, 'years')"
   ]
  },
  {
   "cell_type": "code",
   "execution_count": null,
   "metadata": {
    "id": "BoADQD3ipowk"
   },
   "outputs": [],
   "source": [
    "#%% Pred vs. Ref Figure Test set\n",
    "# plot the prediction against the reference for the test points\n",
    "# if the prediction equals the reference the dots will appear at the 'perfect model' line\n",
    "plt.figure()\n",
    "plt.title('pred vs. ref: test points')\n",
    "plt.scatter(Y_test.cpu().numpy(), Y_pred_test.cpu().detach().numpy(), color='g', s=5, marker='o')\n",
    "plt.scatter(Y_test.cpu().numpy(), Y_pred_test_before.cpu().detach().numpy(), color='m', s=5, marker='^')\n",
    "plt.plot((0,1),(0,1), color='k')\n",
    "plt.xlabel('reference')\n",
    "plt.ylabel('prediction')\n",
    "plt.legend(['perfect model','test-sample after tr', 'test-sample before tr'])\n",
    "plt.xlim((0,1))\n",
    "plt.ylim((0,1))\n",
    "plt.savefig(os.path.join(path, 'results/who_pred_vs_ref_test.png'))"
   ]
  },
  {
   "cell_type": "code",
   "execution_count": null,
   "metadata": {},
   "outputs": [],
   "source": []
  },
  {
   "cell_type": "code",
   "execution_count": null,
   "metadata": {},
   "outputs": [],
   "source": []
  }
 ],
 "metadata": {
  "colab": {
   "provenance": []
  },
  "kernelspec": {
   "display_name": "Python 3 (ipykernel)",
   "language": "python",
   "name": "python3"
  },
  "language_info": {
   "codemirror_mode": {
    "name": "ipython",
    "version": 3
   },
   "file_extension": ".py",
   "mimetype": "text/x-python",
   "name": "python",
   "nbconvert_exporter": "python",
   "pygments_lexer": "ipython3",
   "version": "3.10.6"
  }
 },
 "nbformat": 4,
 "nbformat_minor": 1
}
