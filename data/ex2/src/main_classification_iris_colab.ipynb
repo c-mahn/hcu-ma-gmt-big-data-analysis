{
 "cells": [
  {
   "cell_type": "code",
   "execution_count": 1,
   "metadata": {
    "id": "rZ2v4qQjEcX_"
   },
   "outputs": [],
   "source": [
    "# Exercise_1\n",
    "# main simple classification Iris data\n",
    "# TODO**\n",
    "# Names of group members: Fabian Bloch and Christopher Mahn\n",
    "# Date: April 24th, 2023\n",
    "# TODO**"
   ]
  },
  {
   "cell_type": "code",
   "execution_count": 2,
   "metadata": {
    "id": "Ok0A5HyxEcYJ"
   },
   "outputs": [],
   "source": [
    "#%% Load modules\n",
    "import numpy as np\n",
    "import pandas as pd\n",
    "# import csv\n",
    "\n",
    "# torch modules\n",
    "import torch \n",
    "import torch.nn as nn\n",
    "import torch.nn.functional as F\n",
    "import torch.optim as optim\n",
    "\n",
    "# plot module\n",
    "import matplotlib.pyplot as plt\n",
    "\n",
    "#evaluate modele\n",
    "from sklearn.metrics import confusion_matrix, ConfusionMatrixDisplay\n",
    "from sklearn.svm import SVC"
   ]
  },
  {
   "cell_type": "code",
   "execution_count": 3,
   "metadata": {
    "id": "OGj-b40yEcYQ"
   },
   "outputs": [
    {
     "name": "stdout",
     "output_type": "stream",
     "text": [
      "Device: cuda:0 -- Number of devices: 1\n"
     ]
    }
   ],
   "source": [
    "# %% CUDA for PyTorch\n",
    "# Right at the beginning: check if a cuda compatible GPU is available in your computer. \n",
    "# If so, set device = cuda:0 which means that later all calculations will be performed on the graphics card. \n",
    "# If no GPU is available, the calculations will run on the CPU, which is also absolutely sufficient for these exercises.\n",
    "use_cuda = torch.cuda.is_available()\n",
    "device = torch.device(\"cuda:0\" if use_cuda else \"cpu\")\n",
    "#cudnn.benchmark = True\n",
    "\n",
    "if device.type == 'cpu':\n",
    "    device_num = 0\n",
    "    print('No GPU available.')\n",
    "else:\n",
    "    device_num = torch.cuda.device_count()\n",
    "    print('Device:', device, '-- Number of devices:', device_num)"
   ]
  },
  {
   "cell_type": "code",
   "execution_count": 4,
   "metadata": {
    "id": "sRMSsDMNEetF"
   },
   "outputs": [],
   "source": [
    "# Mounting Google Drive locally \n",
    "# from google.colab import drive\n",
    "#drive.mount(\"/content/drive\", force_remount=True)\n",
    "# drive.mount('/content/drive')\n",
    "# you can also choose one of the other options to load data\n",
    "# therefore see https://colab.research.google.com/notebooks/io.ipynb#scrollTo=u22w3BFiOveA"
   ]
  },
  {
   "cell_type": "code",
   "execution_count": 7,
   "metadata": {
    "id": "o7P9Je30EcYX"
   },
   "outputs": [
    {
     "name": "stdout",
     "output_type": "stream",
     "text": [
      "Größe des Datensatzes: 149\n",
      "Dimension des Datensatzes: 5\n"
     ]
    }
   ],
   "source": [
    "# %% read data\n",
    "# path to wine quality data\n",
    "data_path = '/hdd/repository/hcu-ma-gmt-big-data-analysis/data/ex2/data/iris_flowers/iris.data'\n",
    "\n",
    "# read csv sheet with pandas\n",
    "df = pd.read_csv(data_path, sep=',')\n",
    "\n",
    "# # drop nan data\n",
    "df = df.dropna()\n",
    "# drop each row where there is not at least 21 not nan data\n",
    "# df = df.dropna(thresh=21) # there are many nan in row 4 12 14, which can cause errors\n",
    "\n",
    "# get numpy out of pandas dataframe\n",
    "data = df.values\n",
    "# data=df.to_numpy()\n",
    "\n",
    "# get column names to see, which columns we have to extract as x and y\n",
    "column_names = np.array(df.columns[:], dtype=np.str_)\n",
    "\n",
    "# TODO**\n",
    "print(f'Größe des Datensatzes: {np.shape(data)[0]}')\n",
    "print(f'Dimension des Datensatzes: {np.shape(data)[1]}')\n",
    "# TODO**"
   ]
  },
  {
   "cell_type": "code",
   "execution_count": 8,
   "metadata": {
    "id": "ZBA_oVmrEcYc"
   },
   "outputs": [
    {
     "name": "stdout",
     "output_type": "stream",
     "text": [
      "x shape: (149, 4)\n",
      "y shape: (149,)\n",
      "number of classes 3\n"
     ]
    }
   ],
   "source": [
    "# %% split in X and Y\n",
    "# extract any feature you want as X \n",
    "# extract target values as Y\n",
    "x = np.array(data[:,:-1], dtype=np.float32)\n",
    "# x = np.array(data[:,6], dtype=np.float32)\n",
    "y = pd.factorize(data[:,-1])[0]\n",
    "\n",
    "class_names = np.unique(data[:,-1])\n",
    "\n",
    "# save number of classes\n",
    "nc = np.max(y)+1\n",
    "\n",
    "print('x shape:', x.shape)\n",
    "print('y shape:', y.shape)\n",
    "print('number of classes', nc)"
   ]
  },
  {
   "cell_type": "code",
   "execution_count": 9,
   "metadata": {
    "id": "3Gp1mNDeEcYi"
   },
   "outputs": [
    {
     "name": "stdout",
     "output_type": "stream",
     "text": [
      "Scale_x: [7.9 4.4 6.9 2.5]\n"
     ]
    }
   ],
   "source": [
    "# %% normalize X between (0,1). If multiple features in X are selected, each feature is normalized individually\n",
    "scale_x = np.max(x, axis=0)\n",
    "x = x/scale_x\n",
    "print('Scale_x:',scale_x)"
   ]
  },
  {
   "cell_type": "code",
   "execution_count": 10,
   "metadata": {
    "id": "W7_CO8WTEcYr"
   },
   "outputs": [],
   "source": [
    "# %% convert to torch tensors\n",
    "# if tensors have only one dimension, an artificial dimension is created with unsqueeze (e.g. [10]->[10,1], so 1D->2D)\n",
    "Y = torch.from_numpy(y)\n",
    "Y = Y.long()\n",
    "\n",
    "# produce onehot target tensor\n",
    "# scatter_ mehtod fills the tensor with values from a source tensor along the indices provided as arguments\n",
    "# oh = one hot encoding\n",
    "Y_oh = torch.zeros(Y.shape[0], nc)\n",
    "Y_oh.scatter_(1,Y.unsqueeze(1), 1.0)\n",
    "\n",
    "X = torch.from_numpy(x)\n",
    "X = X.float()\n",
    "if len(X.shape)==1:\n",
    "    X = X.unsqueeze(dim=1)"
   ]
  },
  {
   "cell_type": "code",
   "execution_count": 11,
   "metadata": {
    "id": "y5oQk8AfEcYv"
   },
   "outputs": [
    {
     "name": "stdout",
     "output_type": "stream",
     "text": [
      "Input of first ten train Sample: tensor([[0.6835, 0.7727, 0.2174, 0.1600],\n",
      "        [0.6076, 0.7727, 0.2754, 0.0800],\n",
      "        [0.6329, 0.7955, 0.2319, 0.2400],\n",
      "        [0.6076, 0.7727, 0.2319, 0.0800],\n",
      "        [0.6456, 0.8636, 0.2174, 0.1200],\n",
      "        [0.8354, 0.6818, 0.6377, 0.5600],\n",
      "        [0.9747, 0.8636, 0.9710, 0.8800],\n",
      "        [0.6962, 0.9545, 0.2029, 0.0800],\n",
      "        [0.7975, 0.7500, 0.8696, 1.0000],\n",
      "        [0.7342, 0.6136, 0.7391, 0.7600]])\n",
      "Target of first ten train Sample: tensor([0, 0, 0, 0, 0, 1, 2, 0, 2, 2])\n",
      "One-Hot-Encoded Target of first ten train Sample: tensor([[1., 0., 0.],\n",
      "        [1., 0., 0.],\n",
      "        [1., 0., 0.],\n",
      "        [1., 0., 0.],\n",
      "        [1., 0., 0.],\n",
      "        [0., 1., 0.],\n",
      "        [0., 0., 1.],\n",
      "        [1., 0., 0.],\n",
      "        [0., 0., 1.],\n",
      "        [0., 0., 1.]])\n"
     ]
    }
   ],
   "source": [
    "# %% Split dataset in training, validation and test tensors\n",
    "# TODO**\n",
    "prop_train = 0.5\n",
    "prop_val = 0.25\n",
    "prop_test = 0.25\n",
    "# TODO**\n",
    "\n",
    "sample_num = {'all': X.shape[0], \n",
    "              'train': round(prop_train*X.shape[0]),\n",
    "              'val': round(prop_val*X.shape[0]),\n",
    "              'test': round(prop_test*X.shape[0])}\n",
    "\n",
    "# idx shuffle\n",
    "idx = np.random.choice(sample_num['all'], sample_num['all'], replace=False)\n",
    "# assign idx to each sample\n",
    "sample_idx = {'all': idx[:], \n",
    "              'train': idx[0:sample_num['train']],\n",
    "              'val': idx[sample_num['train']:sample_num['train']+sample_num['val']],\n",
    "              'test': idx[sample_num['train']+sample_num['val']:]}\n",
    "\n",
    "# Create train data\n",
    "X_train = X[sample_idx['train']]\n",
    "Y_train_oh = Y_oh[sample_idx['train']]\n",
    "Y_train = Y[sample_idx['train']]\n",
    "\n",
    "# Create validation data\n",
    "X_val = X[sample_idx['val']]\n",
    "Y_val_oh = Y_oh[sample_idx['val']]\n",
    "Y_val = Y[sample_idx['val']]\n",
    "\n",
    "# Create test data\n",
    "X_test = X[sample_idx['test']]\n",
    "Y_test_oh = Y_oh[sample_idx['test']]\n",
    "Y_test = Y[sample_idx['test']]\n",
    "\n",
    "# Show data point\n",
    "print('Input of first ten train Sample:', X_train[0:10])\n",
    "print('Target of first ten train Sample:', Y_train[0:10])\n",
    "print('One-Hot-Encoded Target of first ten train Sample:', Y_train_oh[0:10])"
   ]
  },
  {
   "cell_type": "code",
   "execution_count": 12,
   "metadata": {
    "id": "dpVLx0wKEcYz"
   },
   "outputs": [],
   "source": [
    "#%% class of neural network 'ClassificationNet'\n",
    "# set up layer and architecture of network in constructor __init__\n",
    "# define operations on layer in forward pass method\n",
    "class ClassificationNet(nn.Module):\n",
    "    \n",
    "    def __init__(self, inputSize, outputSize):\n",
    "        super(ClassificationNet, self).__init__()\n",
    "        self.fc1 = nn.Linear(inputSize, 128)\n",
    "        self.fc2 = nn.Linear(128, 32)\n",
    "        self.fc3 = nn.Linear(32, outputSize)\n",
    "    \n",
    "    def forward(self, x):\n",
    "        # max pooling over (2, 2) window\n",
    "        x = F.relu(self.fc1(x))\n",
    "        x = F.relu(self.fc2(x))\n",
    "        x = self.fc3(x)\n",
    "        return x\n",
    "    "
   ]
  },
  {
   "cell_type": "code",
   "execution_count": 13,
   "metadata": {
    "id": "DrZVTPROEcY3"
   },
   "outputs": [],
   "source": [
    "#%% Specify network parameter\n",
    "# TODO**  \n",
    "inputDim = 4\n",
    "outputDim = 3\n",
    " \n",
    "# Create instance of ClassificationNet\n",
    "net = ClassificationNet(inputDim, outputDim)\n",
    "# TODO** "
   ]
  },
  {
   "cell_type": "code",
   "execution_count": 15,
   "metadata": {
    "id": "IzMhr-6BEcY7"
   },
   "outputs": [
    {
     "name": "stdout",
     "output_type": "stream",
     "text": [
      "ClassificationNet(\n",
      "  (fc1): Linear(in_features=4, out_features=128, bias=True)\n",
      "  (fc2): Linear(in_features=128, out_features=32, bias=True)\n",
      "  (fc3): Linear(in_features=32, out_features=3, bias=True)\n",
      ")\n"
     ]
    }
   ],
   "source": [
    "#%% Send tensors and networks to GPU (if you have one which supports cuda) for faster computations\n",
    "# Note: Y is one-hot-encoded\n",
    "X_train, Y_train_oh = X_train.to(device), Y_train_oh.to(device)\n",
    "X_val, Y_val_oh = X_val.to(device), Y_val_oh.to(device)\n",
    "X_test, Y_test_oh = X_test.to(device), Y_test_oh.to(device)\n",
    "\n",
    "# The network itself must also be sent to the GPU. Either you write net = RegressNet() and then later net.to(device) or directly net = RegressNet().to(device)\n",
    "# The latter option may have the advantage that the instance net is created directly on the GPU, whereas in variant 1 it must first be sent to the GPU.\n",
    "if device_num>1:\n",
    "    print(\"Let's use\", device_num, \"GPU's\")\n",
    "    net = nn.DataParallel(net)\n",
    "net.to(device) \n",
    "print(net)"
   ]
  },
  {
   "cell_type": "code",
   "execution_count": 16,
   "metadata": {
    "id": "jM8VXCtcEcZA"
   },
   "outputs": [],
   "source": [
    "#%% Specify hyperparameter\n",
    "# hyperparemter: num_epoch, num_lr, loss_func, optimizer\n",
    "# TODO**  \n",
    "num_epoch = 1000\n",
    "num_lr = 0.02\n",
    "# TODO**  \n",
    "# Loss and optimizer\n",
    "loss_func = nn.MSELoss() # -> one hot encoded 'target' to loss-function\n",
    "optimizer = optim.Adam(net.parameters(), lr=num_lr)"
   ]
  },
  {
   "cell_type": "code",
   "execution_count": 19,
   "metadata": {
    "id": "MQar-KPtEcZE"
   },
   "outputs": [
    {
     "ename": "RuntimeError",
     "evalue": "CUDA error: no kernel image is available for execution on the device\nCUDA kernel errors might be asynchronously reported at some other API call,so the stacktrace below might be incorrect.\nFor debugging consider passing CUDA_LAUNCH_BLOCKING=1.",
     "output_type": "error",
     "traceback": [
      "\u001b[0;31m---------------------------------------------------------------------------\u001b[0m",
      "\u001b[0;31mRuntimeError\u001b[0m                              Traceback (most recent call last)",
      "Cell \u001b[0;32mIn[19], line 3\u001b[0m\n\u001b[1;32m      1\u001b[0m \u001b[38;5;66;03m#%% Loss and Accuracy before training\u001b[39;00m\n\u001b[1;32m      2\u001b[0m \u001b[38;5;66;03m# Compute loss of test data before training the network (with random weights)\u001b[39;00m\n\u001b[0;32m----> 3\u001b[0m Y_pred_test_before_oh \u001b[38;5;241m=\u001b[39m \u001b[43mnet\u001b[49m\u001b[43m(\u001b[49m\u001b[43mX_test\u001b[49m\u001b[43m)\u001b[49m\n\u001b[1;32m      4\u001b[0m \u001b[38;5;66;03m# loss function input looks as follows: loss_func(prediction, target)\u001b[39;00m\n\u001b[1;32m      5\u001b[0m \u001b[38;5;66;03m# Note: for CrossEntropyLoss(): prediction is one_hot_encoded, target has single dimension\u001b[39;00m\n\u001b[1;32m      6\u001b[0m \u001b[38;5;66;03m# for MSELoss(): target and loss has to be both one_hot_encoded \u001b[39;00m\n\u001b[1;32m      7\u001b[0m loss_test_before \u001b[38;5;241m=\u001b[39m loss_func(Y_pred_test_before_oh, Y_test_oh)\n",
      "File \u001b[0;32m~/.local/lib/python3.10/site-packages/torch/nn/modules/module.py:1130\u001b[0m, in \u001b[0;36mModule._call_impl\u001b[0;34m(self, *input, **kwargs)\u001b[0m\n\u001b[1;32m   1126\u001b[0m \u001b[38;5;66;03m# If we don't have any hooks, we want to skip the rest of the logic in\u001b[39;00m\n\u001b[1;32m   1127\u001b[0m \u001b[38;5;66;03m# this function, and just call forward.\u001b[39;00m\n\u001b[1;32m   1128\u001b[0m \u001b[38;5;28;01mif\u001b[39;00m \u001b[38;5;129;01mnot\u001b[39;00m (\u001b[38;5;28mself\u001b[39m\u001b[38;5;241m.\u001b[39m_backward_hooks \u001b[38;5;129;01mor\u001b[39;00m \u001b[38;5;28mself\u001b[39m\u001b[38;5;241m.\u001b[39m_forward_hooks \u001b[38;5;129;01mor\u001b[39;00m \u001b[38;5;28mself\u001b[39m\u001b[38;5;241m.\u001b[39m_forward_pre_hooks \u001b[38;5;129;01mor\u001b[39;00m _global_backward_hooks\n\u001b[1;32m   1129\u001b[0m         \u001b[38;5;129;01mor\u001b[39;00m _global_forward_hooks \u001b[38;5;129;01mor\u001b[39;00m _global_forward_pre_hooks):\n\u001b[0;32m-> 1130\u001b[0m     \u001b[38;5;28;01mreturn\u001b[39;00m \u001b[43mforward_call\u001b[49m\u001b[43m(\u001b[49m\u001b[38;5;241;43m*\u001b[39;49m\u001b[38;5;28;43minput\u001b[39;49m\u001b[43m,\u001b[49m\u001b[43m \u001b[49m\u001b[38;5;241;43m*\u001b[39;49m\u001b[38;5;241;43m*\u001b[39;49m\u001b[43mkwargs\u001b[49m\u001b[43m)\u001b[49m\n\u001b[1;32m   1131\u001b[0m \u001b[38;5;66;03m# Do not call functions when jit is used\u001b[39;00m\n\u001b[1;32m   1132\u001b[0m full_backward_hooks, non_full_backward_hooks \u001b[38;5;241m=\u001b[39m [], []\n",
      "Cell \u001b[0;32mIn[12], line 14\u001b[0m, in \u001b[0;36mClassificationNet.forward\u001b[0;34m(self, x)\u001b[0m\n\u001b[1;32m     12\u001b[0m \u001b[38;5;28;01mdef\u001b[39;00m \u001b[38;5;21mforward\u001b[39m(\u001b[38;5;28mself\u001b[39m, x):\n\u001b[1;32m     13\u001b[0m     \u001b[38;5;66;03m# max pooling over (2, 2) window\u001b[39;00m\n\u001b[0;32m---> 14\u001b[0m     x \u001b[38;5;241m=\u001b[39m F\u001b[38;5;241m.\u001b[39mrelu(\u001b[38;5;28;43mself\u001b[39;49m\u001b[38;5;241;43m.\u001b[39;49m\u001b[43mfc1\u001b[49m\u001b[43m(\u001b[49m\u001b[43mx\u001b[49m\u001b[43m)\u001b[49m)\n\u001b[1;32m     15\u001b[0m     x \u001b[38;5;241m=\u001b[39m F\u001b[38;5;241m.\u001b[39mrelu(\u001b[38;5;28mself\u001b[39m\u001b[38;5;241m.\u001b[39mfc2(x))\n\u001b[1;32m     16\u001b[0m     x \u001b[38;5;241m=\u001b[39m \u001b[38;5;28mself\u001b[39m\u001b[38;5;241m.\u001b[39mfc3(x)\n",
      "File \u001b[0;32m~/.local/lib/python3.10/site-packages/torch/nn/modules/module.py:1130\u001b[0m, in \u001b[0;36mModule._call_impl\u001b[0;34m(self, *input, **kwargs)\u001b[0m\n\u001b[1;32m   1126\u001b[0m \u001b[38;5;66;03m# If we don't have any hooks, we want to skip the rest of the logic in\u001b[39;00m\n\u001b[1;32m   1127\u001b[0m \u001b[38;5;66;03m# this function, and just call forward.\u001b[39;00m\n\u001b[1;32m   1128\u001b[0m \u001b[38;5;28;01mif\u001b[39;00m \u001b[38;5;129;01mnot\u001b[39;00m (\u001b[38;5;28mself\u001b[39m\u001b[38;5;241m.\u001b[39m_backward_hooks \u001b[38;5;129;01mor\u001b[39;00m \u001b[38;5;28mself\u001b[39m\u001b[38;5;241m.\u001b[39m_forward_hooks \u001b[38;5;129;01mor\u001b[39;00m \u001b[38;5;28mself\u001b[39m\u001b[38;5;241m.\u001b[39m_forward_pre_hooks \u001b[38;5;129;01mor\u001b[39;00m _global_backward_hooks\n\u001b[1;32m   1129\u001b[0m         \u001b[38;5;129;01mor\u001b[39;00m _global_forward_hooks \u001b[38;5;129;01mor\u001b[39;00m _global_forward_pre_hooks):\n\u001b[0;32m-> 1130\u001b[0m     \u001b[38;5;28;01mreturn\u001b[39;00m \u001b[43mforward_call\u001b[49m\u001b[43m(\u001b[49m\u001b[38;5;241;43m*\u001b[39;49m\u001b[38;5;28;43minput\u001b[39;49m\u001b[43m,\u001b[49m\u001b[43m \u001b[49m\u001b[38;5;241;43m*\u001b[39;49m\u001b[38;5;241;43m*\u001b[39;49m\u001b[43mkwargs\u001b[49m\u001b[43m)\u001b[49m\n\u001b[1;32m   1131\u001b[0m \u001b[38;5;66;03m# Do not call functions when jit is used\u001b[39;00m\n\u001b[1;32m   1132\u001b[0m full_backward_hooks, non_full_backward_hooks \u001b[38;5;241m=\u001b[39m [], []\n",
      "File \u001b[0;32m~/.local/lib/python3.10/site-packages/torch/nn/modules/linear.py:114\u001b[0m, in \u001b[0;36mLinear.forward\u001b[0;34m(self, input)\u001b[0m\n\u001b[1;32m    113\u001b[0m \u001b[38;5;28;01mdef\u001b[39;00m \u001b[38;5;21mforward\u001b[39m(\u001b[38;5;28mself\u001b[39m, \u001b[38;5;28minput\u001b[39m: Tensor) \u001b[38;5;241m-\u001b[39m\u001b[38;5;241m>\u001b[39m Tensor:\n\u001b[0;32m--> 114\u001b[0m     \u001b[38;5;28;01mreturn\u001b[39;00m \u001b[43mF\u001b[49m\u001b[38;5;241;43m.\u001b[39;49m\u001b[43mlinear\u001b[49m\u001b[43m(\u001b[49m\u001b[38;5;28;43minput\u001b[39;49m\u001b[43m,\u001b[49m\u001b[43m \u001b[49m\u001b[38;5;28;43mself\u001b[39;49m\u001b[38;5;241;43m.\u001b[39;49m\u001b[43mweight\u001b[49m\u001b[43m,\u001b[49m\u001b[43m \u001b[49m\u001b[38;5;28;43mself\u001b[39;49m\u001b[38;5;241;43m.\u001b[39;49m\u001b[43mbias\u001b[49m\u001b[43m)\u001b[49m\n",
      "\u001b[0;31mRuntimeError\u001b[0m: CUDA error: no kernel image is available for execution on the device\nCUDA kernel errors might be asynchronously reported at some other API call,so the stacktrace below might be incorrect.\nFor debugging consider passing CUDA_LAUNCH_BLOCKING=1."
     ]
    }
   ],
   "source": [
    "#%% Loss and Accuracy before training\n",
    "# Compute loss of test data before training the network (with random weights)\n",
    "Y_pred_test_before_oh = net(X_test)\n",
    "# loss function input looks as follows: loss_func(prediction, target)\n",
    "# Note: for CrossEntropyLoss(): prediction is one_hot_encoded, target has single dimension\n",
    "# for MSELoss(): target and loss has to be both one_hot_encoded \n",
    "loss_test_before = loss_func(Y_pred_test_before_oh, Y_test_oh)\n",
    "\n",
    "# Accuracy before training\n",
    "y_pred_test_before = np.argmax(Y_pred_test_before_oh.cpu().detach().numpy(), axis=1)\n",
    "correct_before = np.sum(y_pred_test_before == Y_test.numpy())"
   ]
  },
  {
   "cell_type": "code",
   "execution_count": null,
   "metadata": {
    "id": "U9NgsiAFEcZI"
   },
   "outputs": [],
   "source": [
    "#%% Train the network\n",
    "plt.figure() # monitor loss curve during training\n",
    "# for loop over epochs\n",
    "for epoch in range(num_epoch):\n",
    "    # classical forward pass -> predict new output from train data\n",
    "    Y_pred_train_oh = net(X_train)\n",
    "    # compute loss    \n",
    "    loss_train = loss_func(Y_pred_train_oh, Y_train_oh)\n",
    "    \n",
    "    # Compute gradients\n",
    "    optimizer.zero_grad()\n",
    "    # Note: Calling .backward() mutiple times accumulates the gradient (by addition) for each parameter. This is why you should call optimizer.zero_grad() after each .step() call\n",
    "    # Note that following the first .backward call, a second call is only possible after you have performed another forward pass.\n",
    "    loss_train.backward()\n",
    "    # perform a parameter update based on the current gradient (stored in .grad attribute of a parameter)\n",
    "    optimizer.step()\n",
    "    \n",
    "    # TODO**\n",
    "    # forward pass for validation\n",
    "    Y_pred_val_oh =\n",
    "    loss_val =\n",
    "    # TODO**\n",
    "    \n",
    "    # compute actual train accuracy\n",
    "    y_pred_train = np.argmax(Y_pred_train_oh.cpu().detach().numpy(), axis=1)\n",
    "    correct_train = np.sum(y_pred_train == Y_train.numpy())\n",
    "    \n",
    "    # compute actual val accuracy\n",
    "    y_pred_val = np.argmax(Y_pred_val_oh.cpu().detach().numpy(), axis=1)\n",
    "    correct_val = np.sum(y_pred_val == Y_val.numpy())\n",
    "    \n",
    "    # plot train and val loss and accuracies\n",
    "    plt.scatter(epoch, loss_train.data.item(), color='r', s=10, marker='o')\n",
    "    plt.scatter(epoch, loss_val.data.item(), color='b', s=10, marker='o')\n",
    "    plt.scatter(epoch, correct_train/Y_train.shape[0], color='m', s=10, marker='o') \n",
    "    plt.scatter(epoch, correct_val/Y_val.shape[0], color='c', s=10, marker='o')\n",
    "    \n",
    "    # print message with actual losses\n",
    "    print('Train Epoch: {}/{} ({:.0f}%)\\ttrain_Loss: {:.6f}\\tval_Loss: {:.6f}'.format(\n",
    "    epoch+1, num_epoch, epoch/num_epoch*100, loss_train.item(), loss_val.item()))\n",
    "       \n",
    "\n",
    "# show training and validation loss    \n",
    "plt.legend(['train-loss','val-loss','train-acc','val-acc'])\n",
    "plt.xlabel('epoch')\n",
    "plt.ylabel('loss')\n",
    "plt.savefig('/content/drive/My Drive/bda_lab/ex2/results/irisflower_loss.png')\n",
    "#plt.show()"
   ]
  },
  {
   "cell_type": "code",
   "execution_count": null,
   "metadata": {
    "id": "JY4k91wyEcZM"
   },
   "outputs": [],
   "source": [
    "# %% Test results\n",
    "# TODO**\n",
    "# forward pass \n",
    "# Y_pred_test_oh is on the GPU, because net and X_test are on the GPU, but we want it on the CPU from now on.\n",
    "Y_pred_test_oh = \n",
    "# compute and print losses\n",
    "loss_test =\n",
    "# TODO** \n",
    "print('Test loss before training was:', loss_test_before.item())\n",
    "print('Test loss after training is:', loss_test.item())\n",
    "\n",
    "# compute and print accuracies\n",
    "y_pred_test = np.argmax(Y_pred_test_oh.cpu().detach().numpy(), axis=1)\n",
    "correct = np.sum(y_pred_test == Y_test.numpy())\n",
    "print('Test accuracy before training: ', correct_before/Y_test.shape[0]*100, '%')\n",
    "print('Test accuracy after training: ', correct/Y_test.shape[0]*100, '%')"
   ]
  },
  {
   "cell_type": "code",
   "execution_count": null,
   "metadata": {
    "id": "nFSpOlPJEcZP"
   },
   "outputs": [],
   "source": [
    "# evaluation module\n",
    "clf = SVC(random_state=0)\n",
    "clf.fit(X_train, y_pred_train)\n",
    "SVC(random_state=0)\n",
    "predictions = clf.predict(X_test)\n",
    "\n",
    "#%% plot test confusion matrix\n",
    "cm = confusion_matrix(y_pred_test, predictions, labels=clf.classes_)\n",
    "disp = ConfusionMatrixDisplay(confusion_matrix=cm, display_labels=clf.classes_)\n",
    "disp.plot()\n",
    "plt.show()\n",
    "plt.savefig('/content/drive/My Drive/bda_lab/ex2/results/irisflower_confusion.png')"
   ]
  },
  {
   "cell_type": "code",
   "execution_count": null,
   "metadata": {
    "id": "zNrGgSWrLU3E"
   },
   "outputs": [],
   "source": []
  }
 ],
 "metadata": {
  "colab": {
   "provenance": []
  },
  "kernelspec": {
   "display_name": "Python 3 (ipykernel)",
   "language": "python",
   "name": "python3"
  },
  "language_info": {
   "codemirror_mode": {
    "name": "ipython",
    "version": 3
   },
   "file_extension": ".py",
   "mimetype": "text/x-python",
   "name": "python",
   "nbconvert_exporter": "python",
   "pygments_lexer": "ipython3",
   "version": "3.10.10"
  }
 },
 "nbformat": 4,
 "nbformat_minor": 1
}
